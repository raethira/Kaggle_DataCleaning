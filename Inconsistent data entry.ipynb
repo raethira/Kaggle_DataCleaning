{
 "cells": [
  {
   "cell_type": "code",
   "execution_count": 5,
   "metadata": {},
   "outputs": [],
   "source": [
    "# modules we'll use\n",
    "import pandas as pd\n",
    "import numpy as np\n",
    "import os\n",
    "# helpful modules\n",
    "import fuzzywuzzy\n",
    "from fuzzywuzzy import process\n",
    "import chardet"
   ]
  },
  {
   "cell_type": "code",
   "execution_count": 6,
   "metadata": {},
   "outputs": [
    {
     "name": "stdout",
     "output_type": "stream",
     "text": [
      "{'confidence': 0.73, 'language': '', 'encoding': 'Windows-1252'}\n"
     ]
    }
   ],
   "source": [
    "# look at the first ten thousand bytes to guess the character encoding\n",
    "with open(os.path.join(os.getcwd(),\"Data/Day4/PakistanSuicideAttacks Ver 11 (30-November-2017).csv\"), 'rb') as rawdata:\n",
    "    result = chardet.detect(rawdata.read(100000))\n",
    "\n",
    "# check what the character encoding might be\n",
    "print(result)"
   ]
  },
  {
   "cell_type": "code",
   "execution_count": 7,
   "metadata": {},
   "outputs": [],
   "source": [
    "# read in our dat\n",
    "suicide_attacks = pd.read_csv(os.path.join(os.getcwd(),\"Data/Day4/PakistanSuicideAttacks Ver 11 (30-November-2017).csv\"), \n",
    "                              encoding='Windows-1252')"
   ]
  },
  {
   "cell_type": "code",
   "execution_count": 8,
   "metadata": {},
   "outputs": [],
   "source": [
    "from IPython.display import display"
   ]
  },
  {
   "cell_type": "code",
   "execution_count": 9,
   "metadata": {},
   "outputs": [
    {
     "data": {
      "text/html": [
       "<div>\n",
       "<style scoped>\n",
       "    .dataframe tbody tr th:only-of-type {\n",
       "        vertical-align: middle;\n",
       "    }\n",
       "\n",
       "    .dataframe tbody tr th {\n",
       "        vertical-align: top;\n",
       "    }\n",
       "\n",
       "    .dataframe thead th {\n",
       "        text-align: right;\n",
       "    }\n",
       "</style>\n",
       "<table border=\"1\" class=\"dataframe\">\n",
       "  <thead>\n",
       "    <tr style=\"text-align: right;\">\n",
       "      <th></th>\n",
       "      <th>S#</th>\n",
       "      <th>Date</th>\n",
       "      <th>Islamic Date</th>\n",
       "      <th>Blast Day Type</th>\n",
       "      <th>Holiday Type</th>\n",
       "      <th>Time</th>\n",
       "      <th>City</th>\n",
       "      <th>Latitude</th>\n",
       "      <th>Longitude</th>\n",
       "      <th>Province</th>\n",
       "      <th>...</th>\n",
       "      <th>Targeted Sect if any</th>\n",
       "      <th>Killed Min</th>\n",
       "      <th>Killed Max</th>\n",
       "      <th>Injured Min</th>\n",
       "      <th>Injured Max</th>\n",
       "      <th>No. of Suicide Blasts</th>\n",
       "      <th>Explosive Weight (max)</th>\n",
       "      <th>Hospital Names</th>\n",
       "      <th>Temperature(C)</th>\n",
       "      <th>Temperature(F)</th>\n",
       "    </tr>\n",
       "  </thead>\n",
       "  <tbody>\n",
       "    <tr>\n",
       "      <th>0</th>\n",
       "      <td>1</td>\n",
       "      <td>Sunday-November 19-1995</td>\n",
       "      <td>25 Jumaada al-THaany 1416 A.H</td>\n",
       "      <td>Holiday</td>\n",
       "      <td>Weekend</td>\n",
       "      <td>NaN</td>\n",
       "      <td>Islamabad</td>\n",
       "      <td>33.7180</td>\n",
       "      <td>73.0718</td>\n",
       "      <td>Capital</td>\n",
       "      <td>...</td>\n",
       "      <td>None</td>\n",
       "      <td>14.0</td>\n",
       "      <td>15.0</td>\n",
       "      <td>NaN</td>\n",
       "      <td>60</td>\n",
       "      <td>2.0</td>\n",
       "      <td>NaN</td>\n",
       "      <td>NaN</td>\n",
       "      <td>15.835</td>\n",
       "      <td>60.503</td>\n",
       "    </tr>\n",
       "    <tr>\n",
       "      <th>1</th>\n",
       "      <td>2</td>\n",
       "      <td>Monday-November 6-2000</td>\n",
       "      <td>10 SHa`baan 1421 A.H</td>\n",
       "      <td>Working Day</td>\n",
       "      <td>NaN</td>\n",
       "      <td>NaN</td>\n",
       "      <td>Karachi</td>\n",
       "      <td>24.9918</td>\n",
       "      <td>66.9911</td>\n",
       "      <td>Sindh</td>\n",
       "      <td>...</td>\n",
       "      <td>None</td>\n",
       "      <td>NaN</td>\n",
       "      <td>3.0</td>\n",
       "      <td>NaN</td>\n",
       "      <td>3</td>\n",
       "      <td>1.0</td>\n",
       "      <td>NaN</td>\n",
       "      <td>NaN</td>\n",
       "      <td>23.770</td>\n",
       "      <td>74.786</td>\n",
       "    </tr>\n",
       "    <tr>\n",
       "      <th>2</th>\n",
       "      <td>3</td>\n",
       "      <td>Wednesday-May 8-2002</td>\n",
       "      <td>25 safar 1423 A.H</td>\n",
       "      <td>Working Day</td>\n",
       "      <td>NaN</td>\n",
       "      <td>7:45 AM</td>\n",
       "      <td>Karachi</td>\n",
       "      <td>24.9918</td>\n",
       "      <td>66.9911</td>\n",
       "      <td>Sindh</td>\n",
       "      <td>...</td>\n",
       "      <td>Christian</td>\n",
       "      <td>13.0</td>\n",
       "      <td>15.0</td>\n",
       "      <td>20.0</td>\n",
       "      <td>40</td>\n",
       "      <td>1.0</td>\n",
       "      <td>2.5 Kg</td>\n",
       "      <td>1.Jinnah Postgraduate Medical Center 2. Civil ...</td>\n",
       "      <td>31.460</td>\n",
       "      <td>88.628</td>\n",
       "    </tr>\n",
       "    <tr>\n",
       "      <th>3</th>\n",
       "      <td>4</td>\n",
       "      <td>Friday-June 14-2002</td>\n",
       "      <td>3 Raby` al-THaany 1423 A.H</td>\n",
       "      <td>Working Day</td>\n",
       "      <td>NaN</td>\n",
       "      <td>11:10:00 AM</td>\n",
       "      <td>Karachi</td>\n",
       "      <td>24.9918</td>\n",
       "      <td>66.9911</td>\n",
       "      <td>Sindh</td>\n",
       "      <td>...</td>\n",
       "      <td>Christian</td>\n",
       "      <td>NaN</td>\n",
       "      <td>12.0</td>\n",
       "      <td>NaN</td>\n",
       "      <td>51</td>\n",
       "      <td>1.0</td>\n",
       "      <td>NaN</td>\n",
       "      <td>NaN</td>\n",
       "      <td>31.430</td>\n",
       "      <td>88.574</td>\n",
       "    </tr>\n",
       "    <tr>\n",
       "      <th>4</th>\n",
       "      <td>5</td>\n",
       "      <td>Friday-July 4-2003</td>\n",
       "      <td>4 Jumaada al-awal 1424 A.H</td>\n",
       "      <td>Working Day</td>\n",
       "      <td>NaN</td>\n",
       "      <td>NaN</td>\n",
       "      <td>Quetta</td>\n",
       "      <td>30.2095</td>\n",
       "      <td>67.0182</td>\n",
       "      <td>Baluchistan</td>\n",
       "      <td>...</td>\n",
       "      <td>Shiite</td>\n",
       "      <td>44.0</td>\n",
       "      <td>47.0</td>\n",
       "      <td>NaN</td>\n",
       "      <td>65</td>\n",
       "      <td>1.0</td>\n",
       "      <td>NaN</td>\n",
       "      <td>1.CMH Quetta \\n2.Civil Hospital 3. Boland Medi...</td>\n",
       "      <td>33.120</td>\n",
       "      <td>91.616</td>\n",
       "    </tr>\n",
       "  </tbody>\n",
       "</table>\n",
       "<p>5 rows × 26 columns</p>\n",
       "</div>"
      ],
      "text/plain": [
       "   S#                     Date                   Islamic Date Blast Day Type  \\\n",
       "0   1  Sunday-November 19-1995  25 Jumaada al-THaany 1416 A.H        Holiday   \n",
       "1   2   Monday-November 6-2000           10 SHa`baan 1421 A.H    Working Day   \n",
       "2   3     Wednesday-May 8-2002              25 safar 1423 A.H    Working Day   \n",
       "3   4      Friday-June 14-2002     3 Raby` al-THaany 1423 A.H    Working Day   \n",
       "4   5       Friday-July 4-2003     4 Jumaada al-awal 1424 A.H    Working Day   \n",
       "\n",
       "  Holiday Type         Time       City  Latitude Longitude     Province  \\\n",
       "0      Weekend          NaN  Islamabad   33.7180   73.0718      Capital   \n",
       "1          NaN          NaN    Karachi   24.9918   66.9911        Sindh   \n",
       "2          NaN      7:45 AM   Karachi    24.9918   66.9911        Sindh   \n",
       "3          NaN  11:10:00 AM    Karachi   24.9918   66.9911        Sindh   \n",
       "4          NaN          NaN     Quetta   30.2095   67.0182  Baluchistan   \n",
       "\n",
       "        ...       Targeted Sect if any Killed Min Killed Max Injured Min  \\\n",
       "0       ...                       None       14.0       15.0         NaN   \n",
       "1       ...                       None        NaN        3.0         NaN   \n",
       "2       ...                  Christian       13.0       15.0        20.0   \n",
       "3       ...                  Christian        NaN       12.0         NaN   \n",
       "4       ...                     Shiite       44.0       47.0         NaN   \n",
       "\n",
       "  Injured Max No. of Suicide Blasts Explosive Weight (max)  \\\n",
       "0          60                   2.0                    NaN   \n",
       "1           3                   1.0                    NaN   \n",
       "2          40                   1.0                 2.5 Kg   \n",
       "3          51                   1.0                    NaN   \n",
       "4          65                   1.0                    NaN   \n",
       "\n",
       "                                      Hospital Names  Temperature(C)  \\\n",
       "0                                                NaN          15.835   \n",
       "1                                                NaN          23.770   \n",
       "2  1.Jinnah Postgraduate Medical Center 2. Civil ...          31.460   \n",
       "3                                                NaN          31.430   \n",
       "4  1.CMH Quetta \\n2.Civil Hospital 3. Boland Medi...          33.120   \n",
       "\n",
       "   Temperature(F)  \n",
       "0          60.503  \n",
       "1          74.786  \n",
       "2          88.628  \n",
       "3          88.574  \n",
       "4          91.616  \n",
       "\n",
       "[5 rows x 26 columns]"
      ]
     },
     "metadata": {},
     "output_type": "display_data"
    }
   ],
   "source": [
    "display(suicide_attacks.head())"
   ]
  },
  {
   "cell_type": "code",
   "execution_count": 10,
   "metadata": {},
   "outputs": [
    {
     "data": {
      "text/plain": [
       "array([u'ATTOCK', u'Attock ', u'Bajaur Agency', u'Bannu', u'Bhakkar ',\n",
       "       u'Buner', u'Chakwal ', u'Chaman', u'Charsadda', u'Charsadda ',\n",
       "       u'D. I Khan', u'D.G Khan', u'D.G Khan ', u'D.I Khan', u'D.I Khan ',\n",
       "       u'Dara Adam Khel', u'Dara Adam khel', u'Fateh Jang',\n",
       "       u'Ghallanai, Mohmand Agency ', u'Gujrat', u'Hangu', u'Haripur',\n",
       "       u'Hayatabad', u'Islamabad', u'Islamabad ', u'Jacobabad',\n",
       "       u'KURRAM AGENCY', u'Karachi', u'Karachi ', u'Karak', u'Khanewal',\n",
       "       u'Khuzdar', u'Khyber Agency', u'Khyber Agency ', u'Kohat',\n",
       "       u'Kohat ', u'Kuram Agency ', u'Lahore', u'Lahore ', u'Lakki Marwat',\n",
       "       u'Lakki marwat', u'Lasbela', u'Lower Dir', u'MULTAN', u'Malakand ',\n",
       "       u'Mansehra', u'Mardan', u'Mohmand Agency', u'Mohmand Agency ',\n",
       "       u'Mohmand agency', u'Mosal Kor, Mohmand Agency', u'Multan',\n",
       "       u'Muzaffarabad', u'North Waziristan', u'North waziristan',\n",
       "       u'Nowshehra', u'Orakzai Agency', u'Peshawar', u'Peshawar ',\n",
       "       u'Pishin', u'Poonch', u'Quetta', u'Quetta ', u'Rawalpindi',\n",
       "       u'Sargodha', u'Sehwan town', u'Shabqadar-Charsadda', u'Shangla ',\n",
       "       u'Shikarpur', u'Sialkot', u'South Waziristan', u'South waziristan',\n",
       "       u'Sudhanoti', u'Sukkur', u'Swabi ', u'Swat', u'Swat ', u'Taftan',\n",
       "       u'Tangi, Charsadda District', u'Tank', u'Tank ', u'Taunsa',\n",
       "       u'Tirah Valley', u'Totalai', u'Upper Dir', u'Wagah', u'Zhob',\n",
       "       u'bannu', u'karachi', u'karachi ', u'lakki marwat', u'peshawar',\n",
       "       u'swat'], dtype=object)"
      ]
     },
     "execution_count": 10,
     "metadata": {},
     "output_type": "execute_result"
    }
   ],
   "source": [
    "# get all the unique values in the 'City' column\n",
    "cities = suicide_attacks['City'].unique()\n",
    "\n",
    "# sort them alphabetically and then take a closer look\n",
    "cities.sort()\n",
    "cities"
   ]
  },
  {
   "cell_type": "code",
   "execution_count": 11,
   "metadata": {},
   "outputs": [],
   "source": [
    "# convert to lower case\n",
    "suicide_attacks['City'] = suicide_attacks['City'].str.lower()\n",
    "# remove trailing white spaces\n",
    "suicide_attacks['City'] = suicide_attacks['City'].str.strip()"
   ]
  },
  {
   "cell_type": "code",
   "execution_count": 12,
   "metadata": {},
   "outputs": [
    {
     "data": {
      "text/plain": [
       "array([u'attock', u'bajaur agency', u'bannu', u'bhakkar', u'buner',\n",
       "       u'chakwal', u'chaman', u'charsadda', u'd. i khan', u'd.g khan',\n",
       "       u'd.i khan', u'dara adam khel', u'fateh jang',\n",
       "       u'ghallanai, mohmand agency', u'gujrat', u'hangu', u'haripur',\n",
       "       u'hayatabad', u'islamabad', u'jacobabad', u'karachi', u'karak',\n",
       "       u'khanewal', u'khuzdar', u'khyber agency', u'kohat',\n",
       "       u'kuram agency', u'kurram agency', u'lahore', u'lakki marwat',\n",
       "       u'lasbela', u'lower dir', u'malakand', u'mansehra', u'mardan',\n",
       "       u'mohmand agency', u'mosal kor, mohmand agency', u'multan',\n",
       "       u'muzaffarabad', u'north waziristan', u'nowshehra',\n",
       "       u'orakzai agency', u'peshawar', u'pishin', u'poonch', u'quetta',\n",
       "       u'rawalpindi', u'sargodha', u'sehwan town', u'shabqadar-charsadda',\n",
       "       u'shangla', u'shikarpur', u'sialkot', u'south waziristan',\n",
       "       u'sudhanoti', u'sukkur', u'swabi', u'swat', u'taftan',\n",
       "       u'tangi, charsadda district', u'tank', u'taunsa', u'tirah valley',\n",
       "       u'totalai', u'upper dir', u'wagah', u'zhob'], dtype=object)"
      ]
     },
     "execution_count": 12,
     "metadata": {},
     "output_type": "execute_result"
    }
   ],
   "source": [
    "# get all the unique values in the 'City' column\n",
    "cities = suicide_attacks['City'].unique()\n",
    "\n",
    "# sort them alphabetically and then take a closer look\n",
    "cities.sort()\n",
    "cities"
   ]
  },
  {
   "cell_type": "code",
   "execution_count": 13,
   "metadata": {},
   "outputs": [
    {
     "data": {
      "text/plain": [
       "[(u'd. i khan', 100),\n",
       " (u'd.i khan', 100),\n",
       " (u'd.g khan', 88),\n",
       " (u'khanewal', 50),\n",
       " (u'sudhanoti', 47),\n",
       " (u'hangu', 46),\n",
       " (u'kohat', 46),\n",
       " (u'dara adam khel', 45),\n",
       " (u'chaman', 43),\n",
       " (u'mardan', 43)]"
      ]
     },
     "execution_count": 13,
     "metadata": {},
     "output_type": "execute_result"
    }
   ],
   "source": [
    "# get the top 10 closest matches to \"d.i khan\"\n",
    "matches = fuzzywuzzy.process.extract(\"d.i khan\", cities, limit=10, scorer=fuzzywuzzy.fuzz.token_sort_ratio)\n",
    "\n",
    "# take a look at them\n",
    "matches"
   ]
  },
  {
   "cell_type": "code",
   "execution_count": 14,
   "metadata": {},
   "outputs": [],
   "source": [
    "# function to replace rows in the provided column of the provided dataframe\n",
    "# that match the provided string above the provided ratio with the provided string\n",
    "def replace_matches_in_column(df, column, string_to_match, min_ratio = 90):\n",
    "    # get a list of unique strings\n",
    "    strings = df[column].unique()\n",
    "    \n",
    "    # get the top 10 closest matches to our input string\n",
    "    matches = fuzzywuzzy.process.extract(string_to_match, strings, \n",
    "                                         limit=10, scorer=fuzzywuzzy.fuzz.token_sort_ratio)\n",
    "\n",
    "    # only get matches with a ratio > 90\n",
    "    close_matches = [matches[0] for matches in matches if matches[1] >= min_ratio]\n",
    "\n",
    "    # get the rows of all the close matches in our dataframe\n",
    "    rows_with_matches = df[column].isin(close_matches)\n",
    "\n",
    "    # replace all rows with close matches with the input matches \n",
    "    df.loc[rows_with_matches, column] = string_to_match\n",
    "    \n",
    "    # let us know the function's done\n",
    "    print(\"All done!\")"
   ]
  },
  {
   "cell_type": "code",
   "execution_count": 15,
   "metadata": {},
   "outputs": [
    {
     "name": "stdout",
     "output_type": "stream",
     "text": [
      "All done!\n"
     ]
    }
   ],
   "source": [
    "# use the function we just wrote to replace close matches to \"d.i khan\" with \"d.i khan\"\n",
    "replace_matches_in_column(df=suicide_attacks, column='City', string_to_match=\"d.i khan\")"
   ]
  },
  {
   "cell_type": "code",
   "execution_count": 16,
   "metadata": {},
   "outputs": [
    {
     "data": {
      "text/plain": [
       "array([u'attock', u'bajaur agency', u'bannu', u'bhakkar', u'buner',\n",
       "       u'chakwal', u'chaman', u'charsadda', u'd.g khan', 'd.i khan',\n",
       "       u'dara adam khel', u'fateh jang', u'ghallanai, mohmand agency',\n",
       "       u'gujrat', u'hangu', u'haripur', u'hayatabad', u'islamabad',\n",
       "       u'jacobabad', u'karachi', u'karak', u'khanewal', u'khuzdar',\n",
       "       u'khyber agency', u'kohat', u'kuram agency', u'kurram agency',\n",
       "       u'lahore', u'lakki marwat', u'lasbela', u'lower dir', u'malakand',\n",
       "       u'mansehra', u'mardan', u'mohmand agency',\n",
       "       u'mosal kor, mohmand agency', u'multan', u'muzaffarabad',\n",
       "       u'north waziristan', u'nowshehra', u'orakzai agency', u'peshawar',\n",
       "       u'pishin', u'poonch', u'quetta', u'rawalpindi', u'sargodha',\n",
       "       u'sehwan town', u'shabqadar-charsadda', u'shangla', u'shikarpur',\n",
       "       u'sialkot', u'south waziristan', u'sudhanoti', u'sukkur', u'swabi',\n",
       "       u'swat', u'taftan', u'tangi, charsadda district', u'tank',\n",
       "       u'taunsa', u'tirah valley', u'totalai', u'upper dir', u'wagah',\n",
       "       u'zhob'], dtype=object)"
      ]
     },
     "execution_count": 16,
     "metadata": {},
     "output_type": "execute_result"
    }
   ],
   "source": [
    "# get all the unique values in the 'City' column\n",
    "cities = suicide_attacks['City'].unique()\n",
    "\n",
    "# sort them alphabetically and then take a closer look\n",
    "cities.sort()\n",
    "cities"
   ]
  },
  {
   "cell_type": "code",
   "execution_count": null,
   "metadata": {},
   "outputs": [],
   "source": []
  }
 ],
 "metadata": {
  "kernelspec": {
   "display_name": "Python 2",
   "language": "python",
   "name": "python2"
  },
  "language_info": {
   "codemirror_mode": {
    "name": "ipython",
    "version": 2
   },
   "file_extension": ".py",
   "mimetype": "text/x-python",
   "name": "python",
   "nbconvert_exporter": "python",
   "pygments_lexer": "ipython2",
   "version": "2.7.13"
  }
 },
 "nbformat": 4,
 "nbformat_minor": 2
}
